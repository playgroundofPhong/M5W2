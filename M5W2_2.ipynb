{
  "nbformat": 4,
  "nbformat_minor": 0,
  "metadata": {
    "colab": {
      "provenance": []
    },
    "kernelspec": {
      "name": "python3",
      "display_name": "Python 3"
    },
    "language_info": {
      "name": "python"
    }
  },
  "cells": [
    {
      "cell_type": "markdown",
      "source": [
        "## **0. Download dataset**\n",
        "**Note:** If you can't download using gdown due to limited number of downloads, please download it manually and upload it to your drive, then copy it from the drive to colab.\n",
        "```python\n",
        "from google.colab import drive\n",
        "\n",
        "drive.mount('/content/drive')\n",
        "!cp /path/to/dataset/on/your/drive .\n",
        "```"
      ],
      "metadata": {
        "id": "ECrVwhHTSJRQ"
      }
    },
    {
      "cell_type": "code",
      "source": [
        "# https://drive.google.com/file/d/1e1uIwcJ1-MviSn9yk_ldPGffDWVp6yK_/view?usp=drive_link\n",
        "!gdown --id 1e1uIwcJ1-MviSn9yk_ldPGffDWVp6yK_"
      ],
      "metadata": {
        "id": "r7aN3wiivdUO"
      },
      "execution_count": null,
      "outputs": []
    },
    {
      "cell_type": "code",
      "source": [
        "!unzip twitter_sentiment_analysis_3cls_dataset.zip"
      ],
      "metadata": {
        "id": "jkru2bLe4l01"
      },
      "execution_count": null,
      "outputs": []
    },
    {
      "cell_type": "markdown",
      "source": [
        "## **1. Import libraries**"
      ],
      "metadata": {
        "id": "9govEkfdTJVA"
      }
    },
    {
      "cell_type": "code",
      "source": [
        "import numpy as np\n",
        "import pandas as pd\n",
        "import matplotlib.pyplot as plt\n",
        "import re\n",
        "import nltk\n",
        "nltk.download('stopwords')\n",
        "\n",
        "from sklearn.model_selection import train_test_split\n",
        "from sklearn.feature_extraction.text import TfidfVectorizer\n",
        "from nltk.corpus import stopwords\n",
        "from nltk.stem import SnowballStemmer"
      ],
      "metadata": {
        "id": "IAvQLqFPTHr1"
      },
      "execution_count": null,
      "outputs": []
    },
    {
      "cell_type": "markdown",
      "source": [
        "## **2. Read dataset**"
      ],
      "metadata": {
        "id": "JuyqHDI8TVf0"
      }
    },
    {
      "cell_type": "code",
      "source": [
        "dataset_path = 'Twitter_Data.csv'\n",
        "df = pd.read_csv(\n",
        "    dataset_path\n",
        ")\n",
        "df"
      ],
      "metadata": {
        "id": "i0uWI9h4TXuN"
      },
      "execution_count": null,
      "outputs": []
    },
    {
      "cell_type": "code",
      "source": [
        "df.info()"
      ],
      "metadata": {
        "id": "6UHefku4Ujgu"
      },
      "execution_count": null,
      "outputs": []
    },
    {
      "cell_type": "code",
      "source": [
        "df.describe()"
      ],
      "metadata": {
        "id": "1DVd0gIgUjx2"
      },
      "execution_count": null,
      "outputs": []
    },
    {
      "cell_type": "markdown",
      "source": [
        "## **3. Drop missing value**"
      ],
      "metadata": {
        "id": "8ej3aM_XI-Qm"
      }
    },
    {
      "cell_type": "code",
      "source": [
        "null_rows = df.isnull().any(axis=1)\n",
        "df[null_rows]"
      ],
      "metadata": {
        "id": "-fWdmBs-JDkg"
      },
      "execution_count": null,
      "outputs": []
    },
    {
      "cell_type": "code",
      "source": [
        "df = df.dropna()"
      ],
      "metadata": {
        "id": "CzLyWoryI_0t"
      },
      "execution_count": null,
      "outputs": []
    },
    {
      "cell_type": "code",
      "source": [
        "df.info()"
      ],
      "metadata": {
        "id": "nRHyuSBuJBlj"
      },
      "execution_count": null,
      "outputs": []
    },
    {
      "cell_type": "markdown",
      "source": [
        "## **4. Preprocessing data**\n",
        "\n"
      ],
      "metadata": {
        "id": "sVHQuLtbAv9M"
      }
    },
    {
      "cell_type": "code",
      "source": [
        "def text_normalize(text):\n",
        "    text = text.lower()\n",
        "    text = re.sub(r'^rt[\\s]+', '', text)\n",
        "    text = re.sub(r'https?:\\/\\/.*[\\r\\n]*', '', text)\n",
        "    text = re.sub(r'[^\\w\\s]', '', text)\n",
        "    stop_words = set(stopwords.words('english'))\n",
        "    words = text.split()\n",
        "    words = [word for word in words if word not in stop_words]\n",
        "\n",
        "    stemmer = SnowballStemmer('english')\n",
        "    words = [stemmer.stem(word) for word in words]\n",
        "    text = ' '.join(words)\n",
        "\n",
        "    return text"
      ],
      "metadata": {
        "id": "45GNGGYaAxt2"
      },
      "execution_count": null,
      "outputs": []
    },
    {
      "cell_type": "code",
      "source": [
        "df['clean_text'] = df['clean_text'].apply(lambda x: text_normalize(x))"
      ],
      "metadata": {
        "id": "yCT-1Bh7Tjhd"
      },
      "execution_count": null,
      "outputs": []
    },
    {
      "cell_type": "code",
      "source": [
        "df"
      ],
      "metadata": {
        "id": "FI5FaYVi-4hh"
      },
      "execution_count": null,
      "outputs": []
    },
    {
      "cell_type": "markdown",
      "source": [
        "## **5. Add bias term**"
      ],
      "metadata": {
        "id": "OzIDAMuZCuiP"
      }
    },
    {
      "cell_type": "code",
      "source": [
        "vectorizer = TfidfVectorizer(max_features=2000)\n",
        "X = vectorize.fit_transform(df['clean_text']).to_array()"
      ],
      "metadata": {
        "id": "NyvZJ_pn0DGB"
      },
      "execution_count": null,
      "outputs": []
    },
    {
      "cell_type": "code",
      "source": [
        "intercept = np.ones((X.shape[0], 1))\n",
        "X_b = np.concatenate((intercept, X), axis=1)"
      ],
      "metadata": {
        "id": "BK4E8SW9ZNvD"
      },
      "execution_count": null,
      "outputs": []
    },
    {
      "cell_type": "markdown",
      "source": [
        "## **6. One-hot encoding label**"
      ],
      "metadata": {
        "id": "eqLmhRMGBVJn"
      }
    },
    {
      "cell_type": "code",
      "source": [
        "n_classes = df['category'].nunique()\n",
        "n_samples = df['category'].size\n",
        "\n",
        "y = df['category'].to_numpy() + 1\n",
        "y = y,astype(np.uint8)\n",
        "\n",
        "y_encoded = np.array([np.zeros (n_classes) for _ in range(n_samples)])\n",
        "y_encoded[np.arange(n_samples), y] = 1"
      ],
      "metadata": {
        "id": "jPkv9lPfZOxu"
      },
      "execution_count": null,
      "outputs": []
    },
    {
      "cell_type": "markdown",
      "source": [
        "## **7. Create train, val, test set**"
      ],
      "metadata": {
        "id": "Oap8OOdJThGz"
      }
    },
    {
      "cell_type": "code",
      "source": [
        "val_size = 0.2\n",
        "test_size = 0.125\n",
        "random_state = 2\n",
        "is_shuffle = True\n",
        "\n",
        "X_train, X_val, y_train, y_val = train_test_split(\n",
        "    X_b, y_encoded,\n",
        "    test_size=val_size,\n",
        "    random_state=random_state,\n",
        "    shuffle=is_shuffle\n",
        ")\n",
        "\n",
        "X_train, X_test, y_train, y_test = train_test_split(\n",
        "    X_train, y_train,\n",
        "    test_size=test_size,\n",
        "    random_state=random_state,\n",
        "    shuffle=is_shuffle\n",
        ")"
      ],
      "metadata": {
        "id": "UppH-uK0UROv"
      },
      "execution_count": null,
      "outputs": []
    },
    {
      "cell_type": "code",
      "source": [
        "print(f'Number of training samples: {X_train.shape[0]}')\n",
        "print(f'Number of val samples: {X_val.shape[0]}')\n",
        "print(f'Number of test samples: {X_test.shape[0]}')"
      ],
      "metadata": {
        "id": "wrZklXUWUZX_"
      },
      "execution_count": null,
      "outputs": []
    },
    {
      "cell_type": "markdown",
      "source": [
        "## **7. Define essential functions**"
      ],
      "metadata": {
        "id": "oyd5xoaASjkk"
      }
    },
    {
      "cell_type": "markdown",
      "source": [
        "### **7.1. Sigmoid function**"
      ],
      "metadata": {
        "id": "jjjiKAeQSnTX"
      }
    },
    {
      "cell_type": "code",
      "source": [
        "def softmax(z):\n",
        "    y_hat = np.exp(z) / np.exp(z).sum(axis=1)[:, None]\n",
        "\n",
        "    return y_hat"
      ],
      "metadata": {
        "id": "ch2h_amKSp89"
      },
      "execution_count": null,
      "outputs": []
    },
    {
      "cell_type": "markdown",
      "source": [
        "### **7.2. Cross-entropy loss function**"
      ],
      "metadata": {
        "id": "JhU4rNR5Sqs2"
      }
    },
    {
      "cell_type": "code",
      "source": [
        "def compute_loss(y_hat, y):\n",
        "    loss = -1 * (np.dot(y.T, np.log(y_hat))) / y.size\n",
        "\n",
        "    return loss"
      ],
      "metadata": {
        "id": "ciAgUAsgSvI7"
      },
      "execution_count": null,
      "outputs": []
    },
    {
      "cell_type": "markdown",
      "source": [
        "### **7.3. Hypothesis function**"
      ],
      "metadata": {
        "id": "kWlw97sHSxY7"
      }
    },
    {
      "cell_type": "code",
      "source": [
        "def predict(X, theta):\n",
        "    z = np.dot(X, theta)\n",
        "    y_hat = softmax(z)\n",
        "\n",
        "    return y_hat"
      ],
      "metadata": {
        "id": "2VICRDKfS2d2"
      },
      "execution_count": null,
      "outputs": []
    },
    {
      "cell_type": "markdown",
      "source": [
        "### **7.4. Gradient function**"
      ],
      "metadata": {
        "id": "cM8nAlGzS299"
      }
    },
    {
      "cell_type": "code",
      "source": [
        "def compute_gradient(X, y, y_hat):\n",
        "    dtheta = np.dot(X.T, (y_hat - y)) / y.size\n",
        "\n",
        "    return dtheta"
      ],
      "metadata": {
        "id": "T_rd8LgeSh4L"
      },
      "execution_count": null,
      "outputs": []
    },
    {
      "cell_type": "markdown",
      "source": [
        "### **7.5. Update weights function**"
      ],
      "metadata": {
        "id": "5X-_T_uKPpq_"
      }
    },
    {
      "cell_type": "code",
      "source": [
        "def update_theta(theta, gradient, lr):\n",
        "    theta = theta - lr * gradient\n",
        "\n",
        "    return theta"
      ],
      "metadata": {
        "id": "2WM0-mzuPslS"
      },
      "execution_count": null,
      "outputs": []
    },
    {
      "cell_type": "markdown",
      "source": [
        "### **7.6. Accuracy function**"
      ],
      "metadata": {
        "id": "LlaR1y46MYsO"
      }
    },
    {
      "cell_type": "code",
      "source": [
        "def compute_accuracy(X, y, theta):\n",
        "    y_hat = predict(X, theta)\n",
        "    acc = (np.argmax(y_hat, axis=1) == np.argmax(y, axis=1)).mean()\n",
        "\n",
        "    return acc"
      ],
      "metadata": {
        "id": "s_MALo1zMbh-"
      },
      "execution_count": null,
      "outputs": []
    },
    {
      "cell_type": "markdown",
      "source": [
        "## **8. Training**"
      ],
      "metadata": {
        "id": "vjTzJ0HtWSMJ"
      }
    },
    {
      "cell_type": "code",
      "source": [
        "lr = 0.1\n",
        "epochs = 200\n",
        "batch_size = X_train.shape[0]\n",
        "n_features = X_train.shape[1]\n",
        "\n",
        "np.random.seed(random_state)\n",
        "theta = np.random.uniform(\n",
        "    size=(n_features, n_classes)\n",
        ")"
      ],
      "metadata": {
        "id": "-vm95Cm9WfnP"
      },
      "execution_count": null,
      "outputs": []
    },
    {
      "cell_type": "code",
      "source": [
        "train_accs = []\n",
        "train_losses = []\n",
        "val_accs = []\n",
        "val_losses = []\n",
        "\n",
        "for epoch in range(epochs):\n",
        "    train_batch_losses = []\n",
        "    train_batch_accs = []\n",
        "    val_batch_losses = []\n",
        "    val_batch_accs = []\n",
        "\n",
        "    for i in range(0, X_train.shape[0], batch_size):\n",
        "\n",
        "        X_i = X_train[i: i + batch_size]\n",
        "        y_i = y_train[i: i + batch_size]\n",
        "\n",
        "        y_hat = predict(X_i, theta)\n",
        "        train_loss = compute_loss(y_hat, y_i)\n",
        "        dtheta = compute_gradient(X_i, y_i, y_hat)\n",
        "        theta = update_theta(theta, dtheta, lr)\n",
        "        train_batch_losses.append(train_loss)\n",
        "        train_acc = compute_accuracy(X_train, theta, y_train)\n",
        "        train_batch_accs.append(train_acc)\n",
        "\n",
        "        y_val_hat = predict(X_val, theta)\n",
        "        val_loss = compute_loss(y_val_hat, y_val)\n",
        "        val_batch_losses.append(val_loss)\n",
        "        val_acc = compute_accuracy(X_val, theta, y_val)\n",
        "        val_batch_accs.append(val_acc)\n",
        "\n",
        "    train_batch_loss = sum(train_batch_losses) / len(train_batch_losses)\n",
        "    val_batch_loss = sum(val_batch_losses) / len(val_batch_losses)\n",
        "    train_batch_acc = sum(train_batch_accs) / len(train_batch_accs)\n",
        "    val_batch_acc = sum(val_batch_accs) / len(val_batch_accs)\n",
        "\n",
        "    train_losses.append(train_batch_loss)\n",
        "    train_accs.append(train_batch_acc)\n",
        "    val_losses.append(val_batch_loss)\n",
        "    val_accs.append(val_batch_acc)\n",
        "\n",
        "    print(f'\\nEPOCH {epoch + 1}:\\tTraining Loss: {train_batch_loss:.3f}\\tValidation Loss: {val_batch_loss:.3f}')"
      ],
      "metadata": {
        "id": "4PSuHceiZYNX"
      },
      "execution_count": null,
      "outputs": []
    },
    {
      "cell_type": "code",
      "source": [
        "fig, ax = plt.subplots(2, 2, figsize=(12, 10))\n",
        "ax[0, 0].plot(train_losses, color='green')\n",
        "ax[0, 0].set(xlabel='Epoch', ylabel='Loss')\n",
        "ax[0, 0].set_title('Training Loss')\n",
        "\n",
        "ax[0, 1].plot(val_losses, color='orange')\n",
        "ax[0, 1].set(xlabel='Epoch', ylabel='Loss')\n",
        "ax[0, 1].set_title('Validation Loss')\n",
        "\n",
        "ax[1, 0].plot(train_accs, color='green')\n",
        "ax[1, 0].set(xlabel='Epoch', ylabel='Accuracy')\n",
        "ax[1, 0].set_title('Training Accuracy')\n",
        "\n",
        "ax[1, 1].plot(val_accs, color='orange')\n",
        "ax[1, 1].set(xlabel='Epoch', ylabel='Accuracy')\n",
        "ax[1, 1].set_title('Validation Accuracy')\n",
        "\n",
        "plt.show()"
      ],
      "metadata": {
        "id": "g78-CtUavsBI"
      },
      "execution_count": null,
      "outputs": []
    },
    {
      "cell_type": "markdown",
      "source": [
        "## **9. Evaluation**"
      ],
      "metadata": {
        "id": "4YpiJSA-WdnX"
      }
    },
    {
      "cell_type": "code",
      "source": [
        "# Val set\n",
        "val_set_acc = compute_accuracy(X_val, y_val, theta)\n",
        "print('Evaluation on validation set:')\n",
        "print(f'Accuracy: {val_set_acc}')"
      ],
      "metadata": {
        "id": "Osq7IQtj2e3N"
      },
      "execution_count": null,
      "outputs": []
    },
    {
      "cell_type": "code",
      "source": [
        "# Test set\n",
        "test_set_acc = compute_accuracy(X_test, y_test, theta)\n",
        "print('Evaluation on test set:')\n",
        "print(f'Accuracy: {test_set_acc}')"
      ],
      "metadata": {
        "id": "gbwp1s7M2gIx"
      },
      "execution_count": null,
      "outputs": []
    }
  ]
}